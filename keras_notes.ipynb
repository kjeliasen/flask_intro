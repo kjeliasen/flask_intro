{
 "cells": [
  {
   "cell_type": "markdown",
   "metadata": {},
   "source": [
    "# Keras Notes"
   ]
  },
  {
   "cell_type": "markdown",
   "metadata": {},
   "source": [
    "## Workflow"
   ]
  },
  {
   "cell_type": "markdown",
   "metadata": {},
   "source": [
    "1. Prep and load data (turn into tensors)\n",
    "1. Create new (blank) model\n",
    "1. Add layer(s) with /add (specify the input shape)\n",
    "1. Compite model with .compile (configiruing the learning paramets)\n",
    "1. Fit the model to training with .fit\n",
    "1. Evaluate the model's performance with .evaluate\n",
    "1. Produce predictions with .predict\n",
    "1. Decode the predicted data (if necessary)"
   ]
  },
  {
   "cell_type": "markdown",
   "metadata": {},
   "source": [
    "***Keras : Tensorflow :: Seaborn : Matplotlib***"
   ]
  },
  {
   "cell_type": "markdown",
   "metadata": {},
   "source": [
    "#### Other Libraries:\n",
    "- PyTorch - Facebook\n",
    "- MXNet -> Apache and Amazon use MXNet"
   ]
  },
  {
   "cell_type": "code",
   "execution_count": 1,
   "metadata": {},
   "outputs": [
    {
     "name": "stderr",
     "output_type": "stream",
     "text": [
      "Using TensorFlow backend.\n"
     ]
    }
   ],
   "source": [
    "# Libraries and Dependencies\n",
    "from keras import models\n",
    "from keras import layers\n",
    "from keras.utils import to_categorical"
   ]
  },
  {
   "cell_type": "code",
   "execution_count": 2,
   "metadata": {},
   "outputs": [],
   "source": [
    "from keras.datasets import mnist # bring in the MNIST data set"
   ]
  },
  {
   "cell_type": "code",
   "execution_count": 3,
   "metadata": {},
   "outputs": [],
   "source": [
    "# Acquire the data set\n",
    "(train_images, train_labels), (test_images, test_labels) = mnist.load_data()"
   ]
  },
  {
   "cell_type": "code",
   "execution_count": 4,
   "metadata": {},
   "outputs": [
    {
     "name": "stdout",
     "output_type": "stream",
     "text": [
      "(60000, 28, 28)\n"
     ]
    }
   ],
   "source": [
    "# explore the shape of the data\n",
    "print(train_images.shape)"
   ]
  },
  {
   "cell_type": "code",
   "execution_count": 5,
   "metadata": {},
   "outputs": [],
   "source": [
    "# type(mnist)"
   ]
  },
  {
   "cell_type": "code",
   "execution_count": 6,
   "metadata": {},
   "outputs": [],
   "source": [
    "# print(train_labels[0])\n",
    "# print(train_images[0])"
   ]
  },
  {
   "cell_type": "code",
   "execution_count": 7,
   "metadata": {},
   "outputs": [
    {
     "name": "stdout",
     "output_type": "stream",
     "text": [
      "WARNING:tensorflow:From /usr/local/anaconda3/lib/python3.7/site-packages/keras/backend/tensorflow_backend.py:74: The name tf.get_default_graph is deprecated. Please use tf.compat.v1.get_default_graph instead.\n",
      "\n"
     ]
    }
   ],
   "source": [
    "network = models.Sequential()"
   ]
  },
  {
   "cell_type": "code",
   "execution_count": 8,
   "metadata": {},
   "outputs": [
    {
     "name": "stdout",
     "output_type": "stream",
     "text": [
      "WARNING:tensorflow:From /usr/local/anaconda3/lib/python3.7/site-packages/keras/backend/tensorflow_backend.py:517: The name tf.placeholder is deprecated. Please use tf.compat.v1.placeholder instead.\n",
      "\n",
      "WARNING:tensorflow:From /usr/local/anaconda3/lib/python3.7/site-packages/keras/backend/tensorflow_backend.py:4138: The name tf.random_uniform is deprecated. Please use tf.random.uniform instead.\n",
      "\n"
     ]
    }
   ],
   "source": [
    "network.add(layers.Dense(28 * 28, activation='relu', input_shape=(28 * 28,)))"
   ]
  },
  {
   "cell_type": "code",
   "execution_count": 9,
   "metadata": {},
   "outputs": [],
   "source": [
    "network.add(layers.Dense(28 * 14, activation='relu'))"
   ]
  },
  {
   "cell_type": "code",
   "execution_count": 10,
   "metadata": {},
   "outputs": [],
   "source": [
    "network.add(layers.Dense(14 * 14, activation='softmax'))"
   ]
  },
  {
   "cell_type": "code",
   "execution_count": 11,
   "metadata": {},
   "outputs": [],
   "source": [
    "network.add(layers.Dense(10, activation='softmax'))"
   ]
  },
  {
   "cell_type": "code",
   "execution_count": 12,
   "metadata": {},
   "outputs": [],
   "source": [
    "# type(network)"
   ]
  },
  {
   "cell_type": "code",
   "execution_count": 13,
   "metadata": {},
   "outputs": [],
   "source": [
    "# network?"
   ]
  },
  {
   "cell_type": "markdown",
   "metadata": {},
   "source": [
    "#### A loss function\n",
    "How the network will be able to measure its performance on the training data, and thus how it will be able to steer itself in the right direction\n",
    "#### An optimizer\n",
    "The mechanism through which the network will update itself based on the data it sees and its loss function.\n",
    "#### Metrics to monitor during \n",
    "Here, we'll only care about accuracy (the fraction of the images that were correctly classified"
   ]
  },
  {
   "cell_type": "code",
   "execution_count": 14,
   "metadata": {},
   "outputs": [
    {
     "name": "stdout",
     "output_type": "stream",
     "text": [
      "WARNING:tensorflow:From /usr/local/anaconda3/lib/python3.7/site-packages/keras/optimizers.py:790: The name tf.train.Optimizer is deprecated. Please use tf.compat.v1.train.Optimizer instead.\n",
      "\n",
      "WARNING:tensorflow:From /usr/local/anaconda3/lib/python3.7/site-packages/keras/backend/tensorflow_backend.py:3295: The name tf.log is deprecated. Please use tf.math.log instead.\n",
      "\n"
     ]
    }
   ],
   "source": [
    "# create our network, specifying the optimizer, loss function, and metrics we want\n",
    "network.compile(optimizer='rmsprop',\n",
    "               loss  = 'categorical_crossentropy',\n",
    "               metrics=['accuracy'])"
   ]
  },
  {
   "cell_type": "code",
   "execution_count": 15,
   "metadata": {},
   "outputs": [],
   "source": [
    "# reshape\n",
    "train_images = train_images.reshape((60000, 28 * 28))\n",
    "train_images = train_images.astype('float32') / 255\n",
    "test_images = test_images.reshape((10000, 28 * 28))\n",
    "test_images = test_images.astype('float32') / 255\n"
   ]
  },
  {
   "cell_type": "code",
   "execution_count": 16,
   "metadata": {},
   "outputs": [],
   "source": [
    "# set the labels as categorical values\n",
    "train_labels = to_categorical(train_labels)\n",
    "test_labels = to_categorical(test_labels)"
   ]
  },
  {
   "cell_type": "code",
   "execution_count": 17,
   "metadata": {},
   "outputs": [
    {
     "name": "stdout",
     "output_type": "stream",
     "text": [
      "WARNING:tensorflow:From /usr/local/anaconda3/lib/python3.7/site-packages/tensorflow/python/ops/math_grad.py:1250: add_dispatch_support.<locals>.wrapper (from tensorflow.python.ops.array_ops) is deprecated and will be removed in a future version.\n",
      "Instructions for updating:\n",
      "Use tf.where in 2.0, which has the same broadcast rule as np.where\n",
      "WARNING:tensorflow:From /usr/local/anaconda3/lib/python3.7/site-packages/keras/backend/tensorflow_backend.py:986: The name tf.assign_add is deprecated. Please use tf.compat.v1.assign_add instead.\n",
      "\n",
      "Epoch 1/17\n",
      "60000/60000 [==============================] - 29s 487us/step - loss: 1.8654 - acc: 0.6526\n",
      "Epoch 2/17\n",
      "60000/60000 [==============================] - 25s 421us/step - loss: 1.3025 - acc: 0.6876\n",
      "Epoch 3/17\n",
      "60000/60000 [==============================] - 19s 323us/step - loss: 0.9210 - acc: 0.6927\n",
      "Epoch 4/17\n",
      "60000/60000 [==============================] - 18s 302us/step - loss: 0.7053 - acc: 0.6959\n",
      "Epoch 5/17\n",
      "60000/60000 [==============================] - 18s 297us/step - loss: 0.5954 - acc: 0.6984\n",
      "Epoch 6/17\n",
      "60000/60000 [==============================] - 18s 301us/step - loss: 0.5388 - acc: 0.7007\n",
      "Epoch 7/17\n",
      "60000/60000 [==============================] - 18s 308us/step - loss: 0.5116 - acc: 0.7018\n",
      "Epoch 8/17\n",
      "60000/60000 [==============================] - 22s 360us/step - loss: 0.4826 - acc: 0.7490\n",
      "Epoch 9/17\n",
      "60000/60000 [==============================] - 23s 380us/step - loss: 0.4330 - acc: 0.7957\n",
      "Epoch 10/17\n",
      "60000/60000 [==============================] - 18s 298us/step - loss: 0.3654 - acc: 0.8735\n",
      "Epoch 11/17\n",
      "60000/60000 [==============================] - 20s 331us/step - loss: 0.2822 - acc: 0.9431\n",
      "Epoch 12/17\n",
      "60000/60000 [==============================] - 21s 357us/step - loss: 0.1969 - acc: 0.9855\n",
      "Epoch 13/17\n",
      "60000/60000 [==============================] - 21s 351us/step - loss: 0.1374 - acc: 0.9908\n",
      "Epoch 14/17\n",
      "60000/60000 [==============================] - 18s 300us/step - loss: 0.0997 - acc: 0.9925\n",
      "Epoch 15/17\n",
      "60000/60000 [==============================] - 21s 348us/step - loss: 0.0824 - acc: 0.9928\n",
      "Epoch 16/17\n",
      "60000/60000 [==============================] - 24s 408us/step - loss: 0.0663 - acc: 0.9941\n",
      "Epoch 17/17\n",
      "60000/60000 [==============================] - 18s 300us/step - loss: 0.0553 - acc: 0.9944\n"
     ]
    },
    {
     "data": {
      "text/plain": [
       "<keras.callbacks.History at 0x63bde6390>"
      ]
     },
     "execution_count": 17,
     "metadata": {},
     "output_type": "execute_result"
    }
   ],
   "source": [
    "# fit the model to the training data\n",
    "network.fit(train_images, train_labels, epochs=17, batch_size=128)"
   ]
  },
  {
   "cell_type": "code",
   "execution_count": 18,
   "metadata": {},
   "outputs": [
    {
     "name": "stdout",
     "output_type": "stream",
     "text": [
      "10000/10000 [==============================] - 1s 119us/step\n",
      "test_acc: 0.9831\n",
      "test_loss: 0.11231519629359245\n"
     ]
    }
   ],
   "source": [
    "test_loss, test_acc = network.evaluate(test_images, test_labels)\n",
    "\n",
    "print('test_acc:', test_acc)\n",
    "print('test_loss:', test_loss)\n"
   ]
  },
  {
   "cell_type": "code",
   "execution_count": null,
   "metadata": {},
   "outputs": [],
   "source": []
  }
 ],
 "metadata": {
  "kernelspec": {
   "display_name": "Python 3",
   "language": "python",
   "name": "python3"
  },
  "language_info": {
   "codemirror_mode": {
    "name": "ipython",
    "version": 3
   },
   "file_extension": ".py",
   "mimetype": "text/x-python",
   "name": "python",
   "nbconvert_exporter": "python",
   "pygments_lexer": "ipython3",
   "version": "3.7.3"
  }
 },
 "nbformat": 4,
 "nbformat_minor": 2
}
